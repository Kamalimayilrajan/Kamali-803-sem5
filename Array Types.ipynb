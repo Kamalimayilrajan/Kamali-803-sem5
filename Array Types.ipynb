{
 "cells": [
  {
   "cell_type": "code",
   "execution_count": 1,
   "id": "6b5a7211-41c0-448c-91db-843e871b1458",
   "metadata": {},
   "outputs": [],
   "source": [
    "import numpy as np"
   ]
  },
  {
   "cell_type": "code",
   "execution_count": 2,
   "id": "b8f5ea25-bf57-4902-8d28-040146893321",
   "metadata": {},
   "outputs": [],
   "source": [
    "ar1=np.array(6)"
   ]
  },
  {
   "cell_type": "code",
   "execution_count": 3,
   "id": "ffd1ca94-0a65-4d7c-9a6a-cbefa1e2f9a8",
   "metadata": {},
   "outputs": [
    {
     "data": {
      "text/plain": [
       "numpy.ndarray"
      ]
     },
     "execution_count": 3,
     "metadata": {},
     "output_type": "execute_result"
    }
   ],
   "source": [
    "type(ar1)"
   ]
  },
  {
   "cell_type": "code",
   "execution_count": 4,
   "id": "8f9528cd-4273-415c-9f8b-5211b2f0be03",
   "metadata": {},
   "outputs": [
    {
     "data": {
      "text/plain": [
       "array(6)"
      ]
     },
     "execution_count": 4,
     "metadata": {},
     "output_type": "execute_result"
    }
   ],
   "source": [
    "ar1"
   ]
  },
  {
   "cell_type": "code",
   "execution_count": 5,
   "id": "81c6a0c5-cc12-4537-9512-0256290aa528",
   "metadata": {},
   "outputs": [],
   "source": [
    "ar1=np.array([0,2,1,5])"
   ]
  },
  {
   "cell_type": "code",
   "execution_count": 7,
   "id": "7fa43721-1a57-468f-a757-6ddac00b99e1",
   "metadata": {},
   "outputs": [
    {
     "data": {
      "text/plain": [
       "array([0, 2, 1, 5])"
      ]
     },
     "execution_count": 7,
     "metadata": {},
     "output_type": "execute_result"
    }
   ],
   "source": [
    "ar1"
   ]
  },
  {
   "cell_type": "code",
   "execution_count": 11,
   "id": "fed85d23-1534-4ca8-b42c-bf867ece057b",
   "metadata": {},
   "outputs": [],
   "source": [
    "ar2=np.array([[0,2,1,5],[0,3,0,5]])"
   ]
  },
  {
   "cell_type": "code",
   "execution_count": 12,
   "id": "ce4396a3-12a8-40e7-97af-58b2926450f4",
   "metadata": {},
   "outputs": [
    {
     "data": {
      "text/plain": [
       "array([[0, 2, 1, 5],\n",
       "       [0, 3, 0, 5]])"
      ]
     },
     "execution_count": 12,
     "metadata": {},
     "output_type": "execute_result"
    }
   ],
   "source": [
    "ar2"
   ]
  },
  {
   "cell_type": "markdown",
   "id": "46fd6b35-2263-440b-bb79-f46631fb80e3",
   "metadata": {},
   "source": [
    "Array Types\n",
    "1. Zero Array\n",
    "2. Ones Array\n",
    "3. Empty Array\n",
    "4. Array for Range"
   ]
  },
  {
   "cell_type": "code",
   "execution_count": 20,
   "id": "eb3f9dfc-18d7-4e36-bc9f-4879182e188c",
   "metadata": {},
   "outputs": [],
   "source": [
    "zero_array=np.zeros((2,1,5))"
   ]
  },
  {
   "cell_type": "code",
   "execution_count": 23,
   "id": "23e6b38d-7a14-4c6f-90dc-296626fd52c5",
   "metadata": {},
   "outputs": [
    {
     "data": {
      "text/plain": [
       "array([[[0., 0., 0., 0., 0.]],\n",
       "\n",
       "       [[0., 0., 0., 0., 0.]]])"
      ]
     },
     "execution_count": 23,
     "metadata": {},
     "output_type": "execute_result"
    }
   ],
   "source": [
    "zero_array"
   ]
  },
  {
   "cell_type": "code",
   "execution_count": 26,
   "id": "c44e0166-c969-4b1c-8441-09699dd497af",
   "metadata": {},
   "outputs": [],
   "source": [
    "ones_array=np.ones((2,2,2))"
   ]
  },
  {
   "cell_type": "code",
   "execution_count": 27,
   "id": "4ec04018-4bf9-4e15-8dc8-13139f29e533",
   "metadata": {},
   "outputs": [
    {
     "data": {
      "text/plain": [
       "array([[[1., 1.],\n",
       "        [1., 1.]],\n",
       "\n",
       "       [[1., 1.],\n",
       "        [1., 1.]]])"
      ]
     },
     "execution_count": 27,
     "metadata": {},
     "output_type": "execute_result"
    }
   ],
   "source": [
    "ones_array"
   ]
  },
  {
   "cell_type": "code",
   "execution_count": 28,
   "id": "953dbb0b-4cd3-405e-9150-037f75ab2865",
   "metadata": {},
   "outputs": [],
   "source": [
    "ar4=np.arange(2,15,2)"
   ]
  },
  {
   "cell_type": "code",
   "execution_count": 29,
   "id": "a49387f2-f0fe-429d-b8ff-e3192993403a",
   "metadata": {},
   "outputs": [
    {
     "data": {
      "text/plain": [
       "array([ 2,  4,  6,  8, 10, 12, 14])"
      ]
     },
     "execution_count": 29,
     "metadata": {},
     "output_type": "execute_result"
    }
   ],
   "source": [
    "ar4"
   ]
  },
  {
   "cell_type": "code",
   "execution_count": 30,
   "id": "23822de8-9a92-42e3-9b5c-00ccfea7d332",
   "metadata": {},
   "outputs": [],
   "source": [
    "ar6=np.transpose(ar2)"
   ]
  },
  {
   "cell_type": "code",
   "execution_count": 33,
   "id": "84cc2c88-9c85-4c3c-a68c-95fe8053b54a",
   "metadata": {
    "scrolled": true
   },
   "outputs": [
    {
     "data": {
      "text/plain": [
       "array([[0, 0],\n",
       "       [2, 3],\n",
       "       [1, 0],\n",
       "       [5, 5]])"
      ]
     },
     "execution_count": 33,
     "metadata": {},
     "output_type": "execute_result"
    }
   ],
   "source": [
    "ar6"
   ]
  },
  {
   "cell_type": "code",
   "execution_count": 34,
   "id": "17f745bd-b33f-4c27-a4c0-bd12571c04f4",
   "metadata": {},
   "outputs": [],
   "source": [
    "ar7=np.ravel(ar6)"
   ]
  },
  {
   "cell_type": "code",
   "execution_count": 35,
   "id": "05c1c801-3a93-4458-9e4a-985a396de1fb",
   "metadata": {},
   "outputs": [
    {
     "data": {
      "text/plain": [
       "array([0, 0, 2, 3, 1, 0, 5, 5])"
      ]
     },
     "execution_count": 35,
     "metadata": {},
     "output_type": "execute_result"
    }
   ],
   "source": [
    "ar7"
   ]
  },
  {
   "cell_type": "code",
   "execution_count": 41,
   "id": "485b5632-3f7c-449f-afdb-6e8e15aab1c3",
   "metadata": {},
   "outputs": [],
   "source": [
    "a1=np.array([0,2])\n",
    "a2=np.array([1,5])"
   ]
  },
  {
   "cell_type": "code",
   "execution_count": 42,
   "id": "d3f46723-6dc4-4e3e-8ba2-3a3f83611d44",
   "metadata": {},
   "outputs": [
    {
     "data": {
      "text/plain": [
       "array([0, 2])"
      ]
     },
     "execution_count": 42,
     "metadata": {},
     "output_type": "execute_result"
    }
   ],
   "source": [
    "a1"
   ]
  },
  {
   "cell_type": "code",
   "execution_count": 43,
   "id": "bf441006-01c8-4e26-9cb5-ebe8cbce7209",
   "metadata": {},
   "outputs": [
    {
     "data": {
      "text/plain": [
       "array([1, 5])"
      ]
     },
     "execution_count": 43,
     "metadata": {},
     "output_type": "execute_result"
    }
   ],
   "source": [
    "a2"
   ]
  },
  {
   "cell_type": "code",
   "execution_count": 44,
   "id": "7999b13e-e82f-49f0-af44-b1e4412c09d7",
   "metadata": {},
   "outputs": [],
   "source": [
    "concat=np.concatenate((a1,a2))"
   ]
  },
  {
   "cell_type": "code",
   "execution_count": 45,
   "id": "12c22009-3679-4663-85a4-33dda7bd151f",
   "metadata": {},
   "outputs": [
    {
     "data": {
      "text/plain": [
       "array([0, 2, 1, 5])"
      ]
     },
     "execution_count": 45,
     "metadata": {},
     "output_type": "execute_result"
    }
   ],
   "source": [
    "concat"
   ]
  },
  {
   "cell_type": "code",
   "execution_count": 46,
   "id": "c2b714e1-437f-4f44-9e5f-d3c688e40889",
   "metadata": {},
   "outputs": [],
   "source": [
    "hori=np.hstack((a1,a2))"
   ]
  },
  {
   "cell_type": "code",
   "execution_count": 47,
   "id": "5b0de3c1-c031-49cd-a9cc-e19cef5581fe",
   "metadata": {},
   "outputs": [
    {
     "data": {
      "text/plain": [
       "array([0, 2, 1, 5])"
      ]
     },
     "execution_count": 47,
     "metadata": {},
     "output_type": "execute_result"
    }
   ],
   "source": [
    "hori"
   ]
  },
  {
   "cell_type": "code",
   "execution_count": 48,
   "id": "1e261fb1-593c-491a-977d-c050a7694b04",
   "metadata": {},
   "outputs": [],
   "source": [
    "vert=np.vstack((a1,a2))"
   ]
  },
  {
   "cell_type": "code",
   "execution_count": 49,
   "id": "b98aab64-c64a-4b50-9ff1-4221b93bbe77",
   "metadata": {},
   "outputs": [
    {
     "data": {
      "text/plain": [
       "array([[0, 2],\n",
       "       [1, 5]])"
      ]
     },
     "execution_count": 49,
     "metadata": {},
     "output_type": "execute_result"
    }
   ],
   "source": [
    "vert"
   ]
  },
  {
   "cell_type": "code",
   "execution_count": null,
   "id": "b69b3f8b-529b-4e9c-a944-0e482b0c329d",
   "metadata": {},
   "outputs": [],
   "source": []
  }
 ],
 "metadata": {
  "kernelspec": {
   "display_name": "Python 3 (ipykernel)",
   "language": "python",
   "name": "python3"
  },
  "language_info": {
   "codemirror_mode": {
    "name": "ipython",
    "version": 3
   },
   "file_extension": ".py",
   "mimetype": "text/x-python",
   "name": "python",
   "nbconvert_exporter": "python",
   "pygments_lexer": "ipython3",
   "version": "3.11.7"
  }
 },
 "nbformat": 4,
 "nbformat_minor": 5
}
