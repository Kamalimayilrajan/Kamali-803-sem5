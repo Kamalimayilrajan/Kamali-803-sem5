{
 "cells": [
  {
   "cell_type": "code",
   "execution_count": 42,
   "id": "6af5750a-b6ce-46d9-ad1e-666981c424bb",
   "metadata": {
    "collapsed": true,
    "jupyter": {
     "outputs_hidden": true
    }
   },
   "outputs": [
    {
     "name": "stdout",
     "output_type": "stream",
     "text": [
      "Requirement already satisfied: scipy in c:\\users\\sys89\\anaconda3\\envs\\kamali\\lib\\site-packages (1.14.0)\n",
      "Requirement already satisfied: numpy<2.3,>=1.23.5 in c:\\users\\sys89\\anaconda3\\envs\\kamali\\lib\\site-packages (from scipy) (1.26.3)\n",
      "Note: you may need to restart the kernel to use updated packages.\n"
     ]
    }
   ],
   "source": [
    "pip install scipy"
   ]
  },
  {
   "cell_type": "code",
   "execution_count": 43,
   "id": "a88d05a2-0f7f-47ef-9892-727bebe0b623",
   "metadata": {},
   "outputs": [],
   "source": [
    "import numpy as np"
   ]
  },
  {
   "cell_type": "code",
   "execution_count": 44,
   "id": "5b1a5495-8b6d-4cf3-9aae-46d208b3a2ca",
   "metadata": {},
   "outputs": [],
   "source": [
    "mat1 = np.array([[2, 6], [6, 11]])"
   ]
  },
  {
   "cell_type": "code",
   "execution_count": 45,
   "id": "4ce81906-ac13-4144-9ff0-4a240db44b82",
   "metadata": {},
   "outputs": [
    {
     "data": {
      "text/plain": [
       "array([[ 2,  6],\n",
       "       [ 6, 11]])"
      ]
     },
     "execution_count": 45,
     "metadata": {},
     "output_type": "execute_result"
    }
   ],
   "source": [
    "mat1"
   ]
  },
  {
   "cell_type": "code",
   "execution_count": 46,
   "id": "8f1f0d4f-ef4b-4073-a542-abdae67dd79d",
   "metadata": {},
   "outputs": [],
   "source": [
    "mat2 = np.array([[2, 6, 3], [6, 11, 4], [17, 2, 73]])"
   ]
  },
  {
   "cell_type": "code",
   "execution_count": 47,
   "id": "365069d5-99d2-4a8d-96a7-a7b9828de604",
   "metadata": {},
   "outputs": [
    {
     "data": {
      "text/plain": [
       "array([[ 2,  6,  3],\n",
       "       [ 6, 11,  4],\n",
       "       [17,  2, 73]])"
      ]
     },
     "execution_count": 47,
     "metadata": {},
     "output_type": "execute_result"
    }
   ],
   "source": [
    "mat2"
   ]
  },
  {
   "cell_type": "code",
   "execution_count": 48,
   "id": "f04edeb3-3996-4df9-87f3-0c89cf94bb59",
   "metadata": {},
   "outputs": [],
   "source": [
    "det_df_mat1=np.linalg.det(mat1)"
   ]
  },
  {
   "cell_type": "code",
   "execution_count": 49,
   "id": "27fd013f-0d7d-4cd4-8749-03ec11206a5c",
   "metadata": {},
   "outputs": [
    {
     "data": {
      "text/plain": [
       "-14.000000000000004"
      ]
     },
     "execution_count": 49,
     "metadata": {},
     "output_type": "execute_result"
    }
   ],
   "source": [
    "det_df_mat1"
   ]
  },
  {
   "cell_type": "code",
   "execution_count": 50,
   "id": "29a50665-d824-4b67-aa22-909ebdb94676",
   "metadata": {},
   "outputs": [],
   "source": [
    "det_df_mat2=np.linalg.det(mat2)"
   ]
  },
  {
   "cell_type": "code",
   "execution_count": 51,
   "id": "b2bbf757-a835-4b22-b93d-c7c81722584c",
   "metadata": {},
   "outputs": [
    {
     "data": {
      "text/plain": [
       "-1154.9999999999998"
      ]
     },
     "execution_count": 51,
     "metadata": {},
     "output_type": "execute_result"
    }
   ],
   "source": [
    "det_df_mat2"
   ]
  },
  {
   "cell_type": "code",
   "execution_count": 52,
   "id": "2ddd5fa2-b717-4b4b-89dd-3a43e1a0226e",
   "metadata": {},
   "outputs": [],
   "source": [
    "inverse=np.linalg.inv(mat2)"
   ]
  },
  {
   "cell_type": "code",
   "execution_count": 53,
   "id": "d95e2fb7-246e-4f2d-bdb1-abfc6ab5aa7b",
   "metadata": {},
   "outputs": [
    {
     "data": {
      "text/plain": [
       "array([[-0.68831169,  0.37402597,  0.00779221],\n",
       "       [ 0.32034632, -0.08225108, -0.00865801],\n",
       "       [ 0.15151515, -0.08484848,  0.01212121]])"
      ]
     },
     "execution_count": 53,
     "metadata": {},
     "output_type": "execute_result"
    }
   ],
   "source": [
    "inverse"
   ]
  },
  {
   "cell_type": "code",
   "execution_count": 54,
   "id": "150781e0-5d71-47b4-a92c-e43f6ea220f6",
   "metadata": {},
   "outputs": [],
   "source": [
    "dense = np.array([[2, 6, 3,2], [6, 11, 4,6], [17, 2, 73,17],[2, 6, 3,2]])"
   ]
  },
  {
   "cell_type": "code",
   "execution_count": 55,
   "id": "b6350880-dbba-4b92-a11e-dbcd6a4b2e82",
   "metadata": {},
   "outputs": [
    {
     "data": {
      "text/plain": [
       "array([[ 2,  6,  3,  2],\n",
       "       [ 6, 11,  4,  6],\n",
       "       [17,  2, 73, 17],\n",
       "       [ 2,  6,  3,  2]])"
      ]
     },
     "execution_count": 55,
     "metadata": {},
     "output_type": "execute_result"
    }
   ],
   "source": [
    "dense "
   ]
  },
  {
   "cell_type": "code",
   "execution_count": 56,
   "id": "3d73b213-a8f1-4f37-895b-e6e74b2296bc",
   "metadata": {},
   "outputs": [],
   "source": [
    "from scipy.sparse import csr_matrix"
   ]
  },
  {
   "cell_type": "code",
   "execution_count": 57,
   "id": "3eb5450c-3fd1-4ca7-afee-1dcac779fe17",
   "metadata": {},
   "outputs": [],
   "source": [
    "sparse=csr_matrix(dense)"
   ]
  },
  {
   "cell_type": "code",
   "execution_count": 58,
   "id": "e6619678-eb43-4f05-9aae-cf5a344ec6e7",
   "metadata": {},
   "outputs": [
    {
     "data": {
      "text/plain": [
       "<Compressed Sparse Row sparse matrix of dtype 'int32'\n",
       "\twith 16 stored elements and shape (4, 4)>"
      ]
     },
     "execution_count": 58,
     "metadata": {},
     "output_type": "execute_result"
    }
   ],
   "source": [
    "sparse"
   ]
  },
  {
   "cell_type": "code",
   "execution_count": 59,
   "id": "0952b552-e8e2-4fad-8333-26228b1ba0e2",
   "metadata": {},
   "outputs": [
    {
     "name": "stdout",
     "output_type": "stream",
     "text": [
      "<Compressed Sparse Row sparse matrix of dtype 'int32'\n",
      "\twith 16 stored elements and shape (4, 4)>\n",
      "  Coords\tValues\n",
      "  (0, 0)\t2\n",
      "  (0, 1)\t6\n",
      "  (0, 2)\t3\n",
      "  (0, 3)\t2\n",
      "  (1, 0)\t6\n",
      "  (1, 1)\t11\n",
      "  (1, 2)\t4\n",
      "  (1, 3)\t6\n",
      "  (2, 0)\t17\n",
      "  (2, 1)\t2\n",
      "  (2, 2)\t73\n",
      "  (2, 3)\t17\n",
      "  (3, 0)\t2\n",
      "  (3, 1)\t6\n",
      "  (3, 2)\t3\n",
      "  (3, 3)\t2\n"
     ]
    }
   ],
   "source": [
    "print(sparse)"
   ]
  },
  {
   "cell_type": "code",
   "execution_count": null,
   "id": "db6c1c7f-53c4-4819-a8af-b444bdf041d6",
   "metadata": {},
   "outputs": [],
   "source": []
  }
 ],
 "metadata": {
  "kernelspec": {
   "display_name": "Python 3 (ipykernel)",
   "language": "python",
   "name": "python3"
  },
  "language_info": {
   "codemirror_mode": {
    "name": "ipython",
    "version": 3
   },
   "file_extension": ".py",
   "mimetype": "text/x-python",
   "name": "python",
   "nbconvert_exporter": "python",
   "pygments_lexer": "ipython3",
   "version": "3.11.7"
  }
 },
 "nbformat": 4,
 "nbformat_minor": 5
}
