{
 "cells": [
  {
   "cell_type": "code",
   "execution_count": 1,
   "id": "ab4ab57b-b048-4317-89b0-d0909e4c83ae",
   "metadata": {},
   "outputs": [],
   "source": [
    "#pip install pandas"
   ]
  },
  {
   "cell_type": "code",
   "execution_count": 2,
   "id": "ac68e606-09fe-42d3-8a51-8395b259d630",
   "metadata": {},
   "outputs": [],
   "source": [
    "import pandas as pd"
   ]
  },
  {
   "cell_type": "code",
   "execution_count": 3,
   "id": "b869eeba-35bf-4f0d-a8ae-546be3446f86",
   "metadata": {},
   "outputs": [
    {
     "data": {
      "text/plain": [
       "'2.2.2'"
      ]
     },
     "execution_count": 3,
     "metadata": {},
     "output_type": "execute_result"
    }
   ],
   "source": [
    "pd.__version__"
   ]
  },
  {
   "cell_type": "code",
   "execution_count": 4,
   "id": "ff6c5bff-b33e-40ed-8d83-f8745fa508e5",
   "metadata": {},
   "outputs": [],
   "source": [
    "#pip install --upgrade pandas"
   ]
  },
  {
   "cell_type": "markdown",
   "id": "29044b10-4199-43de-9ff4-68c1d5504197",
   "metadata": {},
   "source": [
    "## ***SERIES***"
   ]
  },
  {
   "cell_type": "code",
   "execution_count": 5,
   "id": "03734ded-122e-4464-8702-62886a3ceb2d",
   "metadata": {},
   "outputs": [],
   "source": [
    "s1=pd.Series(['kamali','khathija','puthumalar','viji','thanigai','balj'],index=[1,2,3,4,5,6])"
   ]
  },
  {
   "cell_type": "code",
   "execution_count": 6,
   "id": "8e7a4852-3b1d-41e1-9006-7df4a519bb4f",
   "metadata": {},
   "outputs": [
    {
     "name": "stdout",
     "output_type": "stream",
     "text": [
      "1        kamali\n",
      "2      khathija\n",
      "3    puthumalar\n",
      "4          viji\n",
      "5      thanigai\n",
      "6          balj\n",
      "dtype: object\n"
     ]
    }
   ],
   "source": [
    "print(s1)"
   ]
  },
  {
   "cell_type": "markdown",
   "id": "e2f19967-446f-4816-9e4f-460e5265eab8",
   "metadata": {},
   "source": [
    "## ***DATA FRAME***"
   ]
  },
  {
   "cell_type": "markdown",
   "id": "ce6f840f-1097-4594-9f95-b0b3b2185b24",
   "metadata": {},
   "source": [
    "variable_name=pd.DataFrame(data,column=[column name])"
   ]
  },
  {
   "cell_type": "code",
   "execution_count": 7,
   "id": "99bfa4e3-195c-48c2-bf20-a76b18768634",
   "metadata": {},
   "outputs": [],
   "source": [
    "s2=pd.Series(['kamali','khathija','Afra','Pratheeba','pudhu',],index=[1,2,3,4,5])"
   ]
  },
  {
   "cell_type": "code",
   "execution_count": 8,
   "id": "a4b2766b-d5b3-4794-b5a7-0a3e21e3eac1",
   "metadata": {},
   "outputs": [
    {
     "data": {
      "text/plain": [
       "1       kamali\n",
       "2     khathija\n",
       "3         Afra\n",
       "4    Pratheeba\n",
       "5        pudhu\n",
       "dtype: object"
      ]
     },
     "execution_count": 8,
     "metadata": {},
     "output_type": "execute_result"
    }
   ],
   "source": [
    "s2"
   ]
  },
  {
   "cell_type": "code",
   "execution_count": 23,
   "id": "8670bc41-d8d8-429a-a730-446fa71f63d8",
   "metadata": {},
   "outputs": [],
   "source": [
    "s3=pd.Series(['No','No','Yes','yes','yes'],index=[1,2,3,4,5])"
   ]
  },
  {
   "cell_type": "code",
   "execution_count": 24,
   "id": "cc7bd8fc-c34a-4454-ba60-4e6e74f27d5e",
   "metadata": {},
   "outputs": [
    {
     "data": {
      "text/plain": [
       "1     No\n",
       "2     No\n",
       "3    Yes\n",
       "4    yes\n",
       "5    yes\n",
       "dtype: object"
      ]
     },
     "execution_count": 24,
     "metadata": {},
     "output_type": "execute_result"
    }
   ],
   "source": [
    "s3"
   ]
  },
  {
   "cell_type": "code",
   "execution_count": 25,
   "id": "94fb4a50-5020-4de6-a546-7e146c4a53c6",
   "metadata": {},
   "outputs": [],
   "source": [
    "DF1=pd.DataFrame(s2,columns=['Name'])"
   ]
  },
  {
   "cell_type": "code",
   "execution_count": 26,
   "id": "84a7b7e9-1c3d-453a-b5cc-50a244a95ba2",
   "metadata": {},
   "outputs": [
    {
     "data": {
      "text/html": [
       "<div>\n",
       "<style scoped>\n",
       "    .dataframe tbody tr th:only-of-type {\n",
       "        vertical-align: middle;\n",
       "    }\n",
       "\n",
       "    .dataframe tbody tr th {\n",
       "        vertical-align: top;\n",
       "    }\n",
       "\n",
       "    .dataframe thead th {\n",
       "        text-align: right;\n",
       "    }\n",
       "</style>\n",
       "<table border=\"1\" class=\"dataframe\">\n",
       "  <thead>\n",
       "    <tr style=\"text-align: right;\">\n",
       "      <th></th>\n",
       "      <th>Name</th>\n",
       "    </tr>\n",
       "  </thead>\n",
       "  <tbody>\n",
       "    <tr>\n",
       "      <th>1</th>\n",
       "      <td>kamali</td>\n",
       "    </tr>\n",
       "    <tr>\n",
       "      <th>2</th>\n",
       "      <td>khathija</td>\n",
       "    </tr>\n",
       "    <tr>\n",
       "      <th>3</th>\n",
       "      <td>Afra</td>\n",
       "    </tr>\n",
       "    <tr>\n",
       "      <th>4</th>\n",
       "      <td>Pratheeba</td>\n",
       "    </tr>\n",
       "    <tr>\n",
       "      <th>5</th>\n",
       "      <td>pudhu</td>\n",
       "    </tr>\n",
       "  </tbody>\n",
       "</table>\n",
       "</div>"
      ],
      "text/plain": [
       "        Name\n",
       "1     kamali\n",
       "2   khathija\n",
       "3       Afra\n",
       "4  Pratheeba\n",
       "5      pudhu"
      ]
     },
     "execution_count": 26,
     "metadata": {},
     "output_type": "execute_result"
    }
   ],
   "source": [
    "DF1"
   ]
  },
  {
   "cell_type": "code",
   "execution_count": 31,
   "id": "b60b820b-a85d-48ae-a328-44b192d63abe",
   "metadata": {},
   "outputs": [],
   "source": [
    "DF1[\"C\"]=s3"
   ]
  },
  {
   "cell_type": "code",
   "execution_count": 32,
   "id": "a2a52e05-535c-4191-b862-713e47e3f617",
   "metadata": {},
   "outputs": [
    {
     "data": {
      "text/html": [
       "<div>\n",
       "<style scoped>\n",
       "    .dataframe tbody tr th:only-of-type {\n",
       "        vertical-align: middle;\n",
       "    }\n",
       "\n",
       "    .dataframe tbody tr th {\n",
       "        vertical-align: top;\n",
       "    }\n",
       "\n",
       "    .dataframe thead th {\n",
       "        text-align: right;\n",
       "    }\n",
       "</style>\n",
       "<table border=\"1\" class=\"dataframe\">\n",
       "  <thead>\n",
       "    <tr style=\"text-align: right;\">\n",
       "      <th></th>\n",
       "      <th>Name</th>\n",
       "      <th>C</th>\n",
       "    </tr>\n",
       "  </thead>\n",
       "  <tbody>\n",
       "    <tr>\n",
       "      <th>1</th>\n",
       "      <td>kamali</td>\n",
       "      <td>No</td>\n",
       "    </tr>\n",
       "    <tr>\n",
       "      <th>2</th>\n",
       "      <td>khathija</td>\n",
       "      <td>No</td>\n",
       "    </tr>\n",
       "    <tr>\n",
       "      <th>3</th>\n",
       "      <td>Afra</td>\n",
       "      <td>Yes</td>\n",
       "    </tr>\n",
       "    <tr>\n",
       "      <th>4</th>\n",
       "      <td>Pratheeba</td>\n",
       "      <td>yes</td>\n",
       "    </tr>\n",
       "    <tr>\n",
       "      <th>5</th>\n",
       "      <td>pudhu</td>\n",
       "      <td>yes</td>\n",
       "    </tr>\n",
       "  </tbody>\n",
       "</table>\n",
       "</div>"
      ],
      "text/plain": [
       "        Name    C\n",
       "1     kamali   No\n",
       "2   khathija   No\n",
       "3       Afra  Yes\n",
       "4  Pratheeba  yes\n",
       "5      pudhu  yes"
      ]
     },
     "execution_count": 32,
     "metadata": {},
     "output_type": "execute_result"
    }
   ],
   "source": [
    "DF1"
   ]
  },
  {
   "cell_type": "code",
   "execution_count": 38,
   "id": "bcd84052-d4b6-476d-ab42-5abc51cb8adf",
   "metadata": {},
   "outputs": [],
   "source": [
    "Fruits={\"seed\":{1:\"Orange\",2:\"Apple\",3:\"watermelon\"},\"Seedless\":{1:\"Grapes\",2:\"PineApple\",3:\"Papaya\"}}"
   ]
  },
  {
   "cell_type": "code",
   "execution_count": 41,
   "id": "0e3d4d00-c8a9-4668-bc5c-cf297362426f",
   "metadata": {},
   "outputs": [],
   "source": [
    "df2=pd.DataFrame(Fruits,columns=[\"seed\",\"Seedless\"])"
   ]
  },
  {
   "cell_type": "code",
   "execution_count": 42,
   "id": "e3fd9e4e-5c18-43f8-895d-5691c91e824b",
   "metadata": {},
   "outputs": [
    {
     "data": {
      "text/html": [
       "<div>\n",
       "<style scoped>\n",
       "    .dataframe tbody tr th:only-of-type {\n",
       "        vertical-align: middle;\n",
       "    }\n",
       "\n",
       "    .dataframe tbody tr th {\n",
       "        vertical-align: top;\n",
       "    }\n",
       "\n",
       "    .dataframe thead th {\n",
       "        text-align: right;\n",
       "    }\n",
       "</style>\n",
       "<table border=\"1\" class=\"dataframe\">\n",
       "  <thead>\n",
       "    <tr style=\"text-align: right;\">\n",
       "      <th></th>\n",
       "      <th>seed</th>\n",
       "      <th>Seedless</th>\n",
       "    </tr>\n",
       "  </thead>\n",
       "  <tbody>\n",
       "    <tr>\n",
       "      <th>1</th>\n",
       "      <td>Orange</td>\n",
       "      <td>Grapes</td>\n",
       "    </tr>\n",
       "    <tr>\n",
       "      <th>2</th>\n",
       "      <td>Apple</td>\n",
       "      <td>PineApple</td>\n",
       "    </tr>\n",
       "    <tr>\n",
       "      <th>3</th>\n",
       "      <td>watermelon</td>\n",
       "      <td>Papaya</td>\n",
       "    </tr>\n",
       "  </tbody>\n",
       "</table>\n",
       "</div>"
      ],
      "text/plain": [
       "         seed   Seedless\n",
       "1      Orange     Grapes\n",
       "2       Apple  PineApple\n",
       "3  watermelon     Papaya"
      ]
     },
     "execution_count": 42,
     "metadata": {},
     "output_type": "execute_result"
    }
   ],
   "source": [
    "df2"
   ]
  },
  {
   "cell_type": "markdown",
   "id": "77b51574-c69d-43c0-8b69-104fca1f8259",
   "metadata": {},
   "source": [
    "### ***TASK 01***"
   ]
  },
  {
   "cell_type": "markdown",
   "id": "1813e320-8c01-4874-985d-47bcc1defe41",
   "metadata": {},
   "source": [
    "Create a dataframe for your class ,containing \"Name\",\"Reg No\",\"Year of study\" as column names for 05 students "
   ]
  },
  {
   "cell_type": "code",
   "execution_count": 57,
   "id": "212584fc-f50c-41e2-994e-c335af9c3d3d",
   "metadata": {},
   "outputs": [],
   "source": [
    "Students={\"Name\":{1:\"Kamali\",2:\"Khathija\",3:\"Pudhumalar\",4:\"Pratheeba\",5:\"Afra\",6:\"Viji\"},\"Reg No\":{1:\"122011012803\",2:\"122011012817\",3:\"122011012820\",4:\"122011012821\",5:\"122011012840\",6:\"122011012836\"},   \"Year of Study\":{1:\"IIIYr\",2:\"IIIYr\",3:\"IIIYr\",4:\"IIIYr\",5:\"IIIYr\",6:\"IIIYr\"}}"
   ]
  },
  {
   "cell_type": "code",
   "execution_count": 59,
   "id": "b42ebe2f-107d-44b1-bc65-4ae9ac8909f6",
   "metadata": {},
   "outputs": [],
   "source": [
    "df3=pd.DataFrame(Students,columns=[\"Name\",\"Reg No\",\"Year of Study\"])"
   ]
  },
  {
   "cell_type": "code",
   "execution_count": 60,
   "id": "2b5b4012-ff1f-480a-bb3d-e0a94c70e814",
   "metadata": {},
   "outputs": [
    {
     "data": {
      "text/html": [
       "<div>\n",
       "<style scoped>\n",
       "    .dataframe tbody tr th:only-of-type {\n",
       "        vertical-align: middle;\n",
       "    }\n",
       "\n",
       "    .dataframe tbody tr th {\n",
       "        vertical-align: top;\n",
       "    }\n",
       "\n",
       "    .dataframe thead th {\n",
       "        text-align: right;\n",
       "    }\n",
       "</style>\n",
       "<table border=\"1\" class=\"dataframe\">\n",
       "  <thead>\n",
       "    <tr style=\"text-align: right;\">\n",
       "      <th></th>\n",
       "      <th>Name</th>\n",
       "      <th>Reg No</th>\n",
       "      <th>Year of Study</th>\n",
       "    </tr>\n",
       "  </thead>\n",
       "  <tbody>\n",
       "    <tr>\n",
       "      <th>1</th>\n",
       "      <td>Kamali</td>\n",
       "      <td>122011012803</td>\n",
       "      <td>IIIYr</td>\n",
       "    </tr>\n",
       "    <tr>\n",
       "      <th>2</th>\n",
       "      <td>Khathija</td>\n",
       "      <td>122011012817</td>\n",
       "      <td>IIIYr</td>\n",
       "    </tr>\n",
       "    <tr>\n",
       "      <th>3</th>\n",
       "      <td>Pudhumalar</td>\n",
       "      <td>122011012820</td>\n",
       "      <td>IIIYr</td>\n",
       "    </tr>\n",
       "    <tr>\n",
       "      <th>4</th>\n",
       "      <td>Pratheeba</td>\n",
       "      <td>122011012821</td>\n",
       "      <td>IIIYr</td>\n",
       "    </tr>\n",
       "    <tr>\n",
       "      <th>5</th>\n",
       "      <td>Afra</td>\n",
       "      <td>122011012840</td>\n",
       "      <td>IIIYr</td>\n",
       "    </tr>\n",
       "    <tr>\n",
       "      <th>6</th>\n",
       "      <td>Viji</td>\n",
       "      <td>122011012836</td>\n",
       "      <td>IIIYr</td>\n",
       "    </tr>\n",
       "  </tbody>\n",
       "</table>\n",
       "</div>"
      ],
      "text/plain": [
       "         Name        Reg No Year of Study\n",
       "1      Kamali  122011012803         IIIYr\n",
       "2    Khathija  122011012817         IIIYr\n",
       "3  Pudhumalar  122011012820         IIIYr\n",
       "4   Pratheeba  122011012821         IIIYr\n",
       "5        Afra  122011012840         IIIYr\n",
       "6        Viji  122011012836         IIIYr"
      ]
     },
     "execution_count": 60,
     "metadata": {},
     "output_type": "execute_result"
    }
   ],
   "source": [
    "df3"
   ]
  },
  {
   "cell_type": "code",
   "execution_count": 61,
   "id": "1c8d0ed1-6b1f-4fa5-aebc-5b1c642e6fb0",
   "metadata": {},
   "outputs": [
    {
     "data": {
      "text/html": [
       "<div>\n",
       "<style scoped>\n",
       "    .dataframe tbody tr th:only-of-type {\n",
       "        vertical-align: middle;\n",
       "    }\n",
       "\n",
       "    .dataframe tbody tr th {\n",
       "        vertical-align: top;\n",
       "    }\n",
       "\n",
       "    .dataframe thead th {\n",
       "        text-align: right;\n",
       "    }\n",
       "</style>\n",
       "<table border=\"1\" class=\"dataframe\">\n",
       "  <thead>\n",
       "    <tr style=\"text-align: right;\">\n",
       "      <th></th>\n",
       "      <th>seed</th>\n",
       "      <th>Seedless</th>\n",
       "    </tr>\n",
       "  </thead>\n",
       "  <tbody>\n",
       "    <tr>\n",
       "      <th>2</th>\n",
       "      <td>Apple</td>\n",
       "      <td>PineApple</td>\n",
       "    </tr>\n",
       "    <tr>\n",
       "      <th>3</th>\n",
       "      <td>watermelon</td>\n",
       "      <td>Papaya</td>\n",
       "    </tr>\n",
       "  </tbody>\n",
       "</table>\n",
       "</div>"
      ],
      "text/plain": [
       "         seed   Seedless\n",
       "2       Apple  PineApple\n",
       "3  watermelon     Papaya"
      ]
     },
     "execution_count": 61,
     "metadata": {},
     "output_type": "execute_result"
    }
   ],
   "source": [
    "df2.drop(1,axis=0)"
   ]
  },
  {
   "cell_type": "code",
   "execution_count": 62,
   "id": "3aa8dd9c-fea6-468b-acfd-643b2759ff1a",
   "metadata": {},
   "outputs": [
    {
     "data": {
      "text/html": [
       "<div>\n",
       "<style scoped>\n",
       "    .dataframe tbody tr th:only-of-type {\n",
       "        vertical-align: middle;\n",
       "    }\n",
       "\n",
       "    .dataframe tbody tr th {\n",
       "        vertical-align: top;\n",
       "    }\n",
       "\n",
       "    .dataframe thead th {\n",
       "        text-align: right;\n",
       "    }\n",
       "</style>\n",
       "<table border=\"1\" class=\"dataframe\">\n",
       "  <thead>\n",
       "    <tr style=\"text-align: right;\">\n",
       "      <th></th>\n",
       "      <th>seed</th>\n",
       "      <th>Seedless</th>\n",
       "    </tr>\n",
       "  </thead>\n",
       "  <tbody>\n",
       "    <tr>\n",
       "      <th>1</th>\n",
       "      <td>Orange</td>\n",
       "      <td>Grapes</td>\n",
       "    </tr>\n",
       "    <tr>\n",
       "      <th>3</th>\n",
       "      <td>watermelon</td>\n",
       "      <td>Papaya</td>\n",
       "    </tr>\n",
       "  </tbody>\n",
       "</table>\n",
       "</div>"
      ],
      "text/plain": [
       "         seed Seedless\n",
       "1      Orange   Grapes\n",
       "3  watermelon   Papaya"
      ]
     },
     "execution_count": 62,
     "metadata": {},
     "output_type": "execute_result"
    }
   ],
   "source": [
    "df2.drop(2,axis=0)"
   ]
  },
  {
   "cell_type": "code",
   "execution_count": null,
   "id": "61b59d26-3381-43a3-afe6-b5999c20c5b3",
   "metadata": {},
   "outputs": [],
   "source": []
  }
 ],
 "metadata": {
  "kernelspec": {
   "display_name": "Python 3 (ipykernel)",
   "language": "python",
   "name": "python3"
  },
  "language_info": {
   "codemirror_mode": {
    "name": "ipython",
    "version": 3
   },
   "file_extension": ".py",
   "mimetype": "text/x-python",
   "name": "python",
   "nbconvert_exporter": "python",
   "pygments_lexer": "ipython3",
   "version": "3.11.7"
  }
 },
 "nbformat": 4,
 "nbformat_minor": 5
}
