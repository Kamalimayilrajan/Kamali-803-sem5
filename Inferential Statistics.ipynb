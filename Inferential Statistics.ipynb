{
 "cells": [
  {
   "cell_type": "markdown",
   "id": "1b2bf2ed-f235-4935-b0c2-7367c36e722b",
   "metadata": {},
   "source": [
    "### ***INFERENCIAL STATISTICS***"
   ]
  },
  {
   "cell_type": "code",
   "execution_count": 2,
   "id": "ee95c9b4-dd44-47e4-a9d7-59c1e655b46e",
   "metadata": {},
   "outputs": [],
   "source": [
    "import numpy as np"
   ]
  },
  {
   "cell_type": "markdown",
   "id": "4a9886ea-573c-434a-b016-6b61758b7cc9",
   "metadata": {},
   "source": [
    "#### ***Generate Sample Data: heights of 30 students ( in inches )***\n"
   ]
  },
  {
   "cell_type": "code",
   "execution_count": 3,
   "id": "fb96da11-8ad2-453c-9b55-0fe31cbc5b3b",
   "metadata": {},
   "outputs": [],
   "source": [
    "np.random.seed(40)\n",
    "heights = np.random.normal(loc=65 ,scale=3, size=30)"
   ]
  },
  {
   "cell_type": "code",
   "execution_count": 4,
   "id": "41e4e2de-7488-49d6-a7b2-24843ec807cb",
   "metadata": {},
   "outputs": [
    {
     "data": {
      "text/plain": [
       "array([63.17735691, 64.62159076, 62.94618092, 67.78614425, 59.4667969 ,\n",
       "       63.59899273, 71.87747103, 66.46643016, 67.13080097, 68.16660333,\n",
       "       65.1622193 , 65.77386025, 66.76484495, 67.65573272, 61.94897893,\n",
       "       64.59892091, 63.6854435 , 66.48033048, 64.40297264, 61.17504918,\n",
       "       65.88048246, 65.32685094, 65.09518036, 68.81791959, 68.2143437 ,\n",
       "       66.24745404, 69.65203769, 64.06586325, 60.86228028, 69.11422636])"
      ]
     },
     "execution_count": 4,
     "metadata": {},
     "output_type": "execute_result"
    }
   ],
   "source": [
    "heights"
   ]
  },
  {
   "cell_type": "markdown",
   "id": "24d21479-2633-4351-a5b5-df847749e2f4",
   "metadata": {},
   "source": [
    "#### \n",
    "\n",
    "***Point Estimation: calculate the Sample Mean***"
   ]
  },
  {
   "cell_type": "code",
   "execution_count": 5,
   "id": "b22ea12f-3e25-44a8-be51-987d232b57f4",
   "metadata": {},
   "outputs": [
    {
     "name": "stdout",
     "output_type": "stream",
     "text": [
      "Sample Mean (Point Estimate): 65.53877864874389\n"
     ]
    }
   ],
   "source": [
    "sample_mean = np.mean(heights)\n",
    "print(\"Sample Mean (Point Estimate):\",sample_mean)"
   ]
  },
  {
   "cell_type": "code",
   "execution_count": 6,
   "id": "25f633f2-198d-4643-87d1-2c4673a24cb4",
   "metadata": {},
   "outputs": [],
   "source": [
    "import numpy as np\n",
    "import scipy.stats as stats"
   ]
  },
  {
   "cell_type": "markdown",
   "id": "dbbc2ac2-05be-42ed-8755-edb519f5cd9c",
   "metadata": {},
   "source": [
    "#### ***Generate Sample data: Heights of 30 students (in inches)***"
   ]
  },
  {
   "cell_type": "code",
   "execution_count": 7,
   "id": "15ad76bc-c545-4d95-93a1-4358b74caa03",
   "metadata": {},
   "outputs": [],
   "source": [
    "np.random.seed(42)\n",
    "heights = np.random.normal(loc=65 ,scale=3, size=30)"
   ]
  },
  {
   "cell_type": "markdown",
   "id": "33f1a1b8-be3b-4340-88e8-85f431dcc48f",
   "metadata": {},
   "source": [
    "#### ***Calculate Sample Mean and Sample Deviation***"
   ]
  },
  {
   "cell_type": "code",
   "execution_count": 8,
   "id": "ae875bef-5e8b-4046-85c6-5bb4fb50d5b6",
   "metadata": {},
   "outputs": [],
   "source": [
    "sample_mean = np.mean(heights)\n",
    "sample_std = np.std(heights, ddof =1)"
   ]
  },
  {
   "cell_type": "markdown",
   "id": "a44f9c16-b2f6-4d3d-b5c2-36a0c2399b7e",
   "metadata": {},
   "source": [
    "#### _***Set the Desired Confidence Level***_"
   ]
  },
  {
   "cell_type": "code",
   "execution_count": 9,
   "id": "9e21ccb4-5968-414c-b1ea-2db55fe85a39",
   "metadata": {},
   "outputs": [],
   "source": [
    "confidence_level = 0.95"
   ]
  },
  {
   "cell_type": "markdown",
   "id": "85d35b09-e2a8-4409-a99e-1892aeab65e0",
   "metadata": {},
   "source": [
    "#### ***Calculate the Margin of Error***"
   ]
  },
  {
   "cell_type": "code",
   "execution_count": 10,
   "id": "9c3ff05d-6897-49a9-bbb8-7e689f3617bd",
   "metadata": {},
   "outputs": [],
   "source": [
    "margin_of_error = stats.t.ppf((1+ confidence_level) /2,len(heights) -1)* (sample_std / np.sqrt(len(heights)))"
   ]
  },
  {
   "cell_type": "markdown",
   "id": "72c4c040-7c90-4e62-b501-0a6f731a39d2",
   "metadata": {},
   "source": [
    "#### ***Calculate the Confidence Intervel***"
   ]
  },
  {
   "cell_type": "code",
   "execution_count": 11,
   "id": "291adf69-7485-4a07-b8f2-94d9e659b9d9",
   "metadata": {},
   "outputs": [],
   "source": [
    "lower_bound = sample_mean - margin_of_error\n",
    "upper_bound = sample_mean - margin_of_error"
   ]
  },
  {
   "cell_type": "markdown",
   "id": "20136888-85ec-451a-8137-4a2e171c4bf4",
   "metadata": {},
   "source": [
    "#### ***Print the Confidence Intervel***"
   ]
  },
  {
   "cell_type": "code",
   "execution_count": 12,
   "id": "7ff94e5b-55e6-49af-906c-651f3ca0a6dd",
   "metadata": {},
   "outputs": [
    {
     "name": "stdout",
     "output_type": "stream",
     "text": [
      "Confidence Intervel (95.0%): [63.427355543105506, 63.427355543105506]\n"
     ]
    }
   ],
   "source": [
    "print(f\"Confidence Intervel ({confidence_level*100}%): [{lower_bound}, {upper_bound}]\")"
   ]
  },
  {
   "cell_type": "markdown",
   "id": "cfd58409-4b92-4b17-ad51-ceb2997057d1",
   "metadata": {},
   "source": [
    "### ***Hypothesis T Test***"
   ]
  },
  {
   "cell_type": "code",
   "execution_count": 13,
   "id": "3a1cb2b4-dbda-45f5-8177-e55cc4076146",
   "metadata": {},
   "outputs": [],
   "source": [
    "import numpy as np\n",
    "from scipy import stats"
   ]
  },
  {
   "cell_type": "markdown",
   "id": "0a3e84e4-378b-4cd9-9d03-472a6ca987f6",
   "metadata": {},
   "source": [
    "#### ***Generate sample Data for Two Groups***"
   ]
  },
  {
   "cell_type": "code",
   "execution_count": 14,
   "id": "f1727bc7-7466-4b04-afdc-27c9d68de47d",
   "metadata": {},
   "outputs": [],
   "source": [
    "np.random.seed(42)\n",
    "group1_scores = np.random.normal(loc=70,scale=5,size=30)\n",
    "group2_scores = np.random.normal(loc=75,scale=5,size=30)                                 "
   ]
  },
  {
   "cell_type": "markdown",
   "id": "8393dfec-31c7-4d5e-a531-db6340efab7b",
   "metadata": {},
   "source": [
    "#### ***Perform Independent T Test***"
   ]
  },
  {
   "cell_type": "code",
   "execution_count": 15,
   "id": "6b2d5850-0126-4d33-91e2-332ce3090c0f",
   "metadata": {},
   "outputs": [],
   "source": [
    "t_statistics,p_value = stats.ttest_ind(group1_scores,group2_scores)"
   ]
  },
  {
   "cell_type": "markdown",
   "id": "ea69b107-d5cc-4584-9403-41720cfc5777",
   "metadata": {},
   "source": [
    "#### ***Set The Significance Level***"
   ]
  },
  {
   "cell_type": "code",
   "execution_count": 16,
   "id": "3583adf9-8b30-4b0e-baa4-c34413b4c805",
   "metadata": {},
   "outputs": [],
   "source": [
    "alpha = 0.05"
   ]
  },
  {
   "cell_type": "code",
   "execution_count": 17,
   "id": "78d8bdb7-45dd-4610-9c19-ba262aeaab37",
   "metadata": {},
   "outputs": [
    {
     "name": "stdout",
     "output_type": "stream",
     "text": [
      "T-test Results:\n",
      "T-statistic: -4.512913234547576\n",
      "P-value: 3.176506547469916e-05\n"
     ]
    }
   ],
   "source": [
    "print(\"T-test Results:\")\n",
    "print(\"T-statistic:\",t_statistics)\n",
    "print(\"P-value:\",p_value)"
   ]
  },
  {
   "cell_type": "markdown",
   "id": "28e6e2a0-5b14-430e-a5f1-687b8641e3d2",
   "metadata": {},
   "source": [
    "#### ***Check if the p-value is less than Alpha to Determine significance***"
   ]
  },
  {
   "cell_type": "code",
   "execution_count": 18,
   "id": "d3b63f93-0e05-478f-9b32-87c354ea7d0d",
   "metadata": {},
   "outputs": [
    {
     "name": "stdout",
     "output_type": "stream",
     "text": [
      "Reject the Null hypothesis .there is a significance difference between the means of the two groups.\n"
     ]
    }
   ],
   "source": [
    "if p_value < alpha:\n",
    "    print(\"Reject the Null hypothesis .there is a significance difference between the means of the two groups.\") \n",
    "         \n",
    "else:\n",
    "    print(\"Fail to reject the Null hypothesis. There is no significant difference between the means of the two groups.\")"
   ]
  },
  {
   "cell_type": "markdown",
   "id": "84f0e0e0-a168-48ef-804c-eb10f0b9cf58",
   "metadata": {},
   "source": [
    "#### ***Perform Two-Tailed-Test***"
   ]
  },
  {
   "cell_type": "code",
   "execution_count": 27,
   "id": "8aec0cf6-9234-421d-b59e-3d7e5ab787d8",
   "metadata": {},
   "outputs": [],
   "source": [
    "t_statistic_2tail, p_value_2tail = stats.ttest_ind(group1_scores,group2_scores)"
   ]
  },
  {
   "cell_type": "markdown",
   "id": "7e5d9570-eb7c-48d7-a0ea-555919b1512a",
   "metadata": {},
   "source": [
    "#### ***Perform One Tailed t-Test(Right to Left)***"
   ]
  },
  {
   "cell_type": "code",
   "execution_count": 28,
   "id": "d557ea8b-3afc-4992-afd0-a6f523e61635",
   "metadata": {},
   "outputs": [],
   "source": [
    "t_statistic_1tail_right, p_value_2tail_right = stats.ttest_ind(group1_scores,group2_scores,alternative=\"greater\")"
   ]
  },
  {
   "cell_type": "markdown",
   "id": "dcfc2c68-5fce-4c6b-98fa-ea7db28e423e",
   "metadata": {},
   "source": [
    "#### ***Perform One Tailed t-Test(Left to Right)***"
   ]
  },
  {
   "cell_type": "code",
   "execution_count": 29,
   "id": "a95d6764-0ad7-41aa-aa6b-7a4a2732820a",
   "metadata": {},
   "outputs": [],
   "source": [
    "t_statistic_1tail_left, p_value_2tail_left = stats.ttest_ind(group1_scores,group2_scores,alternative=\"greater\")"
   ]
  },
  {
   "cell_type": "markdown",
   "id": "dc51ca16-e559-4b49-806c-01e7f1349fc9",
   "metadata": {},
   "source": [
    "#### ***Print One-Tailed(Left-tailed)Test Results***"
   ]
  },
  {
   "cell_type": "code",
   "execution_count": 30,
   "id": "90f263c4-7aa7-43b5-9ab0-2fab6450d8f6",
   "metadata": {},
   "outputs": [
    {
     "name": "stdout",
     "output_type": "stream",
     "text": [
      "Two-tailed Test:\n",
      "T-statistic: -4.512913234547576\n",
      "P-value: 3.176506547469916e-05\n"
     ]
    }
   ],
   "source": [
    "print(\"Two-tailed Test:\")\n",
    "print(\"T-statistic:\",t_statistic_2tail)\n",
    "print(\"P-value:\",p_value_2tail)"
   ]
  },
  {
   "cell_type": "code",
   "execution_count": null,
   "id": "badfd599-7479-4e01-9c37-d299eb9cb81e",
   "metadata": {},
   "outputs": [],
   "source": []
  }
 ],
 "metadata": {
  "kernelspec": {
   "display_name": "Python 3 (ipykernel)",
   "language": "python",
   "name": "python3"
  },
  "language_info": {
   "codemirror_mode": {
    "name": "ipython",
    "version": 3
   },
   "file_extension": ".py",
   "mimetype": "text/x-python",
   "name": "python",
   "nbconvert_exporter": "python",
   "pygments_lexer": "ipython3",
   "version": "3.11.7"
  }
 },
 "nbformat": 4,
 "nbformat_minor": 5
}
